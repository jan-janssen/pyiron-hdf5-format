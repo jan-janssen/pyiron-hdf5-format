{
 "cells": [
  {
   "cell_type": "code",
   "execution_count": 1,
   "id": "28a9f0ec",
   "metadata": {},
   "outputs": [],
   "source": [
    "import h5py"
   ]
  },
  {
   "cell_type": "code",
   "execution_count": 2,
   "id": "ab8e112a",
   "metadata": {},
   "outputs": [],
   "source": [
    "import numpy as np"
   ]
  },
  {
   "cell_type": "code",
   "execution_count": 3,
   "id": "ffd464bb",
   "metadata": {},
   "outputs": [
    {
     "data": {
      "text/html": [
       "<pre style=\"white-space:pre;overflow-x:auto;line-height:normal;font-family:Menlo,'DejaVu Sans Mono',consolas,'Courier New',monospace\"></pre>\n"
      ],
      "text/plain": []
     },
     "metadata": {},
     "output_type": "display_data"
    },
    {
     "data": {
      "text/html": [
       "<pre style=\"white-space:pre;overflow-x:auto;line-height:normal;font-family:Menlo,'DejaVu Sans Mono',consolas,'Courier New',monospace\"></pre>\n"
      ],
      "text/plain": []
     },
     "metadata": {},
     "output_type": "display_data"
    },
    {
     "data": {
      "application/vnd.jupyter.widget-view+json": {
       "model_id": "0ef4fd2249c440ae8318d68faaa28ba7",
       "version_major": 2,
       "version_minor": 0
      },
      "text/plain": []
     },
     "metadata": {},
     "output_type": "display_data"
    }
   ],
   "source": [
    "from pyiron_atomistics import Project"
   ]
  },
  {
   "cell_type": "code",
   "execution_count": 4,
   "id": "0d95fc61",
   "metadata": {},
   "outputs": [],
   "source": [
    "pr = Project(\"test\")"
   ]
  },
  {
   "cell_type": "code",
   "execution_count": 5,
   "id": "64427095",
   "metadata": {},
   "outputs": [
    {
     "data": {
      "application/vnd.jupyter.widget-view+json": {
       "model_id": "98c45f7bdb7f48cfb7d1637a35f556ad",
       "version_major": 2,
       "version_minor": 0
      },
      "text/plain": [
       "  0%|          | 0/1 [00:00<?, ?it/s]"
      ]
     },
     "metadata": {},
     "output_type": "display_data"
    }
   ],
   "source": [
    "pr.remove_jobs(recursive=True, silently=True)"
   ]
  },
  {
   "cell_type": "code",
   "execution_count": 6,
   "id": "09b53d07",
   "metadata": {},
   "outputs": [],
   "source": [
    "structure = pr.create.structure.ase.bulk(\"Al\", cubic=True)"
   ]
  },
  {
   "cell_type": "code",
   "execution_count": 7,
   "id": "264e6228",
   "metadata": {},
   "outputs": [],
   "source": [
    "structure.set_repeat([9,9,9])"
   ]
  },
  {
   "cell_type": "code",
   "execution_count": 8,
   "id": "c2be1def",
   "metadata": {},
   "outputs": [
    {
     "data": {
      "text/plain": [
       "2916"
      ]
     },
     "execution_count": 8,
     "metadata": {},
     "output_type": "execute_result"
    }
   ],
   "source": [
    "len(structure)"
   ]
  },
  {
   "cell_type": "code",
   "execution_count": 9,
   "id": "e26dd327",
   "metadata": {},
   "outputs": [],
   "source": [
    "job = pr.create.job.Lammps(\"lmp\")"
   ]
  },
  {
   "cell_type": "code",
   "execution_count": 10,
   "id": "f29a4da4",
   "metadata": {},
   "outputs": [],
   "source": [
    "job.structure =structure"
   ]
  },
  {
   "cell_type": "code",
   "execution_count": 11,
   "id": "80615ce4",
   "metadata": {},
   "outputs": [
    {
     "data": {
      "text/plain": [
       "['1995--Angelo-J-E--Ni-Al-H--LAMMPS--ipr1',\n",
       " '1996--Farkas-D--Nb-Ti-Al--LAMMPS--ipr1',\n",
       " '1997--Liu-X-Y--Al-Mg--LAMMPS--ipr1',\n",
       " '1998--Liu-X-Y--Al-Mg--LAMMPS--ipr1',\n",
       " '1999--Liu-X-Y--Al-Cu--LAMMPS--ipr1',\n",
       " '1999--Mishin-Y--Al--LAMMPS--ipr1',\n",
       " '2000--Landa-A--Al-Pb--LAMMPS--ipr1',\n",
       " '2000--Sturgeon-J-B--Al--LAMMPS--ipr1',\n",
       " '2002--Mishin-Y--Ni-Al--LAMMPS--ipr1',\n",
       " '2003--Lee-B-J--Al--LAMMPS--ipr1',\n",
       " '2003--Zope-R-R--Al--LAMMPS--ipr1',\n",
       " '2003--Zope-R-R--Ti-Al--LAMMPS--ipr1',\n",
       " '2004--Liu-X-Y--Al--LAMMPS--ipr1',\n",
       " '2004--Mishin-Y--Ni-Al--LAMMPS--ipr1',\n",
       " '2004--Mishin-Y--Ni-Al--LAMMPS--ipr2',\n",
       " '2004--Zhou-X-W--Al--LAMMPS--ipr2',\n",
       " '2005--Mendelev-M-I--Al-Fe--LAMMPS--ipr1',\n",
       " '2007--Silva-A-C--Al-Ni--LAMMPS--ipr1',\n",
       " '2008--Mendelev-M-I--Al--LAMMPS--ipr1',\n",
       " '2009--Kim-Y-M--Mg-Al--LAMMPS--ipr1',\n",
       " '2009--Mendelev-M-I--Al-Mg--LAMMPS--ipr1',\n",
       " '2009--Purja-Pun-G-P--Ni-Al--LAMMPS--ipr1',\n",
       " '2009--Zhakhovskii-V-V--Al--LAMMPS--ipr2',\n",
       " '2010--Lee-E--Fe-Al--LAMMPS--ipr1',\n",
       " '2010--Mendelev-M-I--fictional-Al-1--LAMMPS--ipr1',\n",
       " '2010--Mendelev-M-I--fictional-Al-2--LAMMPS--ipr1',\n",
       " '2010--Mendelev-M-I--fictional-Al-3--LAMMPS--ipr1',\n",
       " '2010--Winey-J-M--Al--LAMMPS--ipr1',\n",
       " '2011--Apostol-F--Al-Cu--LAMMPS--ipr1',\n",
       " '2011--Ko-W-S--Al-H--LAMMPS--ipr1',\n",
       " '2012--Dong-W-P--Co-Al--LAMMPS--ipr1',\n",
       " '2012--Jelinek-B--Al-Si-Mg-Cu-Fe--LAMMPS--ipr2',\n",
       " '2012--Schopf-D--Al-Mn-Pd--LAMMPS--ipr1',\n",
       " '2013--Shim-J-H--V-Al--LAMMPS--ipr1',\n",
       " '2013--Shim-J-H--V-Al-H--LAMMPS--ipr1',\n",
       " '2015--Choudhary-K--Al--LAMMPS--ipr1',\n",
       " '2015--Choudhary-K--Al-O--LAMMPS--ipr1',\n",
       " '2015--Kim-Y-K--Ni-Al-Co--LAMMPS--ipr1',\n",
       " '2015--Kumar-A--Al-Ni--LAMMPS--ipr1',\n",
       " '2015--Kumar-A--Al-Ni-O--LAMMPS--ipr1',\n",
       " '2015--Mendelev-M-I--Al-Sm--LAMMPS--ipr1',\n",
       " '2015--Pascuet-M-I--Al--LAMMPS--ipr1',\n",
       " '2015--Pascuet-M-I--Al-U--LAMMPS--ipr2',\n",
       " '2015--Purja-Pun-G-P--Al-Co--LAMMPS--ipr2',\n",
       " '2015--Purja-Pun-G-P--Ni-Al-Co--LAMMPS--ipr2',\n",
       " '2016--Kim-Y-K--Al-Ti--LAMMPS--ipr1',\n",
       " '2016--Zhou-X-W--Al-Cu--LAMMPS--ipr2',\n",
       " '2017--Botu-V--Al--LAMMPS--ipr1',\n",
       " '2017--Kim-J-S--Pt-Al--LAMMPS--ipr1',\n",
       " '2017--Kim-Y-K--Ni-Al-Ti--LAMMPS--ipr1',\n",
       " '2018--Dickel-D-E--Mg-Al-Zn--LAMMPS--ipr1',\n",
       " '2018--Jeong-G-U--Pd-Al--LAMMPS--ipr1',\n",
       " '2018--Zhou-X-W--Al-Cu-H--LAMMPS--ipr1',\n",
       " '2019--Plummer-G--Ti-Al-C--LAMMPS--ipr1',\n",
       " '2020--Farkas-D--Fe-Ni-Cr-Co-Al--LAMMPS--ipr1',\n",
       " '2020--Purja-Pun-G-P--Al--LAMMPS--ipr1',\n",
       " '2020--Starikov-S--Si-Au-Al--LAMMPS--ipr1',\n",
       " '2020--Starikov-S--Si-Au-Al--LAMMPS--ipr2',\n",
       " '2021--Plummer-G--Ti-Al-C--LAMMPS--ipr1',\n",
       " '2021--Song-H--Al-Sm--LAMMPS--ipr1',\n",
       " '2022--Fereidonnejad-R--Al-Hf--LAMMPS--ipr1',\n",
       " '2022--Fereidonnejad-R--Al-Nb--LAMMPS--ipr1',\n",
       " '2022--Fereidonnejad-R--Al-Ta--LAMMPS--ipr1',\n",
       " '2022--Fereidonnejad-R--Al-Ti--LAMMPS--ipr1',\n",
       " '2022--Fereidonnejad-R--Al-Zr--LAMMPS--ipr1',\n",
       " '2022--Mahata-A--Al-Cu--LAMMPS--ipr1',\n",
       " '2022--Mahata-A--Al-Fe--LAMMPS--ipr1',\n",
       " '2022--Mahata-A--Al-Ni--LAMMPS--ipr1',\n",
       " '2022--Mendelev-M-I--Ni-Al--LAMMPS--ipr1',\n",
       " 'EAM_CubicNaturalSpline_ErcolessiAdams_1994_Al__MO_800509458712_002',\n",
       " 'EAM_Dynamo_AngeloMoodyBaskes_1995_NiAlH__MO_418978237058_005',\n",
       " 'EAM_Dynamo_CaiYe_1996_AlCu__MO_942551040047_005',\n",
       " 'EAM_Dynamo_ErcolessiAdams_1994_Al__MO_123629422045_005',\n",
       " 'EAM_Dynamo_FarkasJones_1996_NbTiAl__MO_042691367780_000',\n",
       " 'EAM_Dynamo_JacobsenNorskovPuska_1987_Al__MO_411692133366_000',\n",
       " 'EAM_Dynamo_LandaWynblattSiegel_2000_AlPb__MO_699137396381_005',\n",
       " 'EAM_Dynamo_LiuAdams_1998_AlMg__MO_019873715786_000',\n",
       " 'EAM_Dynamo_LiuErcolessiAdams_2004_Al__MO_051157671505_000',\n",
       " 'EAM_Dynamo_LiuLiuBorucki_1999_AlCu__MO_020851069572_000',\n",
       " 'EAM_Dynamo_LiuOhotnickyAdams_1997_AlMg__MO_559870613549_000',\n",
       " 'EAM_Dynamo_MendelevAstaRahman_2009_AlMg__MO_658278549784_005',\n",
       " 'EAM_Dynamo_MendelevFangYe_2015_AlSm__MO_338600200739_000',\n",
       " 'EAM_Dynamo_MendelevKramerBecker_2008_Al__MO_106969701023_005',\n",
       " 'EAM_Dynamo_MendelevSrolovitzAckland_2005_AlFe__MO_577453891941_005',\n",
       " 'EAM_Dynamo_MishinFarkasMehl_1999_Al__MO_651801486679_005',\n",
       " 'EAM_Dynamo_MishinMehlPapaconstantopoulos_2002_NiAl__MO_109933561507_005',\n",
       " 'EAM_Dynamo_Mishin_2004_NiAl__MO_101214310689_005',\n",
       " 'EAM_Dynamo_PunMishin_2009_NiAl__MO_751354403791_005',\n",
       " 'EAM_Dynamo_PunYamakovMishin_2013_AlCo__MO_678952612413_000',\n",
       " 'EAM_Dynamo_PunYamakovMishin_2013_NiAlCo__MO_826591359508_000',\n",
       " 'EAM_Dynamo_SchopfBrommerFrigan_2012_AlMnPd__MO_137572817842_000',\n",
       " 'EAM_Dynamo_SturgeonLaird_2000_Al__MO_120808805541_005',\n",
       " 'EAM_Dynamo_VailheFarkas_1997_CoAl__MO_284963179498_005',\n",
       " 'EAM_Dynamo_WineyKubotaGupta_2010_Al__MO_149316865608_005',\n",
       " 'EAM_Dynamo_Zhakhovsky_2009_Al__MO_519613893196_000',\n",
       " 'EAM_Dynamo_ZhouJohnsonWadley_2004NISTretabulation_Al__MO_060567868558_000',\n",
       " 'EAM_Dynamo_ZhouJohnsonWadley_2004_Al__MO_131650261510_005',\n",
       " 'EAM_Dynamo_ZhouWadleyJohnson_2001_Al__MO_049243498555_000',\n",
       " 'EAM_Dynamo_ZopeMishin_2003_Al__MO_664470114311_005',\n",
       " 'EAM_Dynamo_ZopeMishin_2003_TiAl__MO_117656786760_005',\n",
       " 'EAM_ErcolessiAdams_1994_Al__MO_324507536345_003',\n",
       " 'EAM_IMD_BrommerGaehler_2006A_AlNiCo__MO_122703700223_003',\n",
       " 'EAM_IMD_BrommerGaehler_2006B_AlNiCo__MO_128037485276_003',\n",
       " 'EAM_IMD_SchopfBrommerFrigan_2012_AlMnPd__MO_878712978062_003',\n",
       " 'EAM_QuinticClampedSpline_ErcolessiAdams_1994_Al__MO_450093727396_002',\n",
       " 'EAM_QuinticHermiteSpline_ErcolessiAdams_1994_Al__MO_781138671863_002',\n",
       " 'EMT_Asap_Standard_JacobsenStoltzeNorskov_1996_AlAgAuCuNiPdPt__MO_115316750986_001',\n",
       " 'EMT_Asap_Standard_JacobsenStoltzeNorskov_1996_Al__MO_623376124862_001',\n",
       " 'MEAM_LAMMPS_AlmyrasSangiovanniSarakinos_2019_NAlTi__MO_958395190627_000',\n",
       " 'MEAM_LAMMPS_CostaAgrenClavaguera_2007_AlNi__MO_131642768288_000',\n",
       " 'MEAM_LAMMPS_DongKimKo_2012_CoAl__MO_099716416216_000',\n",
       " 'MEAM_LAMMPS_JelinekGrohHorstemeyer_2012_AlSiMgCuFe__MO_262519520678_000',\n",
       " 'MEAM_LAMMPS_JeongParkDo_2018_PdAl__MO_616482358807_000',\n",
       " 'MEAM_LAMMPS_KimJungLee_2015_NiAlCo__MO_876687166519_000',\n",
       " 'MEAM_LAMMPS_KimKimJung_2016_AlTi__MO_618133763375_000',\n",
       " 'MEAM_LAMMPS_KimKimJung_2017_NiAlTi__MO_478967255435_000',\n",
       " 'MEAM_LAMMPS_KimKimLee_2009_AlMg__MO_058537087384_000',\n",
       " 'MEAM_LAMMPS_KimSeolJi_2017_PtAl__MO_793141037706_000',\n",
       " 'MEAM_LAMMPS_KoShimLee_2011_AlH__MO_127847080751_000',\n",
       " 'MEAM_LAMMPS_LeeLee_2010_FeAl__MO_332211522050_000',\n",
       " 'MEAM_LAMMPS_PascuetFernandez_2015_AlU__MO_596300673917_000',\n",
       " 'MEAM_LAMMPS_PascuetFernandez_2015_Al__MO_315820974149_000',\n",
       " 'MEAM_LAMMPS_ShimKoKim_2013_AlVH__MO_344724145339_000',\n",
       " 'Morse_Shifted_GirifalcoWeizer_1959HighCutoff_Al__MO_140175748626_004',\n",
       " 'Morse_Shifted_GirifalcoWeizer_1959LowCutoff_Al__MO_411898953661_004',\n",
       " 'Morse_Shifted_GirifalcoWeizer_1959MedCutoff_Al__MO_279544746097_004',\n",
       " 'Sim_LAMMPS_ADP_ApostolMishin_2011_AlCu__SM_667696763561_000',\n",
       " 'Sim_LAMMPS_ADP_StarikovGordeevLysogorskiy_2020_SiAuAl__SM_113843830602_000',\n",
       " 'Sim_LAMMPS_AGNI_BotuBatraChapman_2017_Al__SM_666183636896_000',\n",
       " 'Sim_LAMMPS_BOP_ZhouWardFoster_2016_AlCu__SM_566399258279_000',\n",
       " 'Sim_LAMMPS_MEAM_AlmyrasSangiovanniSarakinos_2019_NAlTi__SM_871795249052_000',\n",
       " 'Sim_LAMMPS_MEAM_JelinekGrohHorstemeyer_2012_AlSiMgCuFe__SM_656517352485_000',\n",
       " 'Sim_LAMMPS_MEAM_PascuetFernandez_2015_AlU__SM_721930391003_000',\n",
       " 'Sim_LAMMPS_MEAM_PascuetFernandez_2015_Al__SM_811588957187_000',\n",
       " 'Sim_LAMMPS_SMTBQ_SallesPolitanoAmzallag_2016_AlO__SM_853967355976_000',\n",
       " 'Sim_LAMMPS_SMTBQ_SallesPolitanoAmzallag_2016_Al__SM_404097633924_000']"
      ]
     },
     "execution_count": 11,
     "metadata": {},
     "output_type": "execute_result"
    }
   ],
   "source": [
    "job.list_potentials()"
   ]
  },
  {
   "cell_type": "code",
   "execution_count": 12,
   "id": "b5e9c630",
   "metadata": {},
   "outputs": [],
   "source": [
    "job.potential = '2002--Mishin-Y--Ni-Al--LAMMPS--ipr1'"
   ]
  },
  {
   "cell_type": "code",
   "execution_count": 13,
   "id": "d3dad632",
   "metadata": {},
   "outputs": [],
   "source": [
    "job.calc_md(n_ionic_steps=1000, n_print=10, temperature=500.0)"
   ]
  },
  {
   "cell_type": "code",
   "execution_count": 14,
   "id": "97a17236",
   "metadata": {},
   "outputs": [
    {
     "name": "stdout",
     "output_type": "stream",
     "text": [
      "The job lmp was saved and received the ID: lmp\n"
     ]
    }
   ],
   "source": [
    "job.run()"
   ]
  },
  {
   "cell_type": "code",
   "execution_count": 15,
   "id": "59dacba5",
   "metadata": {},
   "outputs": [
    {
     "data": {
      "text/plain": [
       "'/Users/janssen/pyiron/projects/2023/2023-05-02-pyiron-start/test/lmp.h5'"
      ]
     },
     "execution_count": 15,
     "metadata": {},
     "output_type": "execute_result"
    }
   ],
   "source": [
    "file_name = job.project_hdf5.file_name\n",
    "file_name"
   ]
  },
  {
   "cell_type": "code",
   "execution_count": 16,
   "id": "eb780614",
   "metadata": {},
   "outputs": [],
   "source": [
    "def print_attrs(name, obj):\n",
    "    print(name)\n",
    "    for key, val in obj.attrs.items():\n",
    "        print(\"    %s: %s\" % (key, val))"
   ]
  },
  {
   "cell_type": "code",
   "execution_count": 17,
   "id": "989f77eb",
   "metadata": {},
   "outputs": [
    {
     "name": "stdout",
     "output_type": "stream",
     "text": [
      "lmp\n",
      "lmp/HDF_VERSION\n",
      "    TITLE: unicode\n",
      "lmp/NAME\n",
      "    TITLE: unicode\n",
      "lmp/TYPE\n",
      "    TITLE: unicode\n",
      "lmp/VERSION\n",
      "    TITLE: unicode\n",
      "lmp/executable\n",
      "lmp/executable/HDF_VERSION\n",
      "    TITLE: unicode\n",
      "lmp/executable/NAME\n",
      "    TITLE: unicode\n",
      "lmp/executable/OBJECT\n",
      "    TITLE: unicode\n",
      "lmp/executable/TYPE\n",
      "    TITLE: unicode\n",
      "lmp/executable/executable\n",
      "lmp/executable/executable/HDF_VERSION\n",
      "    TITLE: unicode\n",
      "lmp/executable/executable/NAME\n",
      "    TITLE: unicode\n",
      "lmp/executable/executable/OBJECT\n",
      "    TITLE: unicode\n",
      "lmp/executable/executable/READ_ONLY\n",
      "    TITLE: int\n",
      "lmp/executable/executable/TYPE\n",
      "    TITLE: unicode\n",
      "lmp/executable/executable/VERSION\n",
      "    TITLE: unicode\n",
      "lmp/executable/executable/accepted_return_codes__index_5\n",
      "    TITLE: json\n",
      "lmp/executable/executable/executable__index_3\n",
      "    TITLE: None\n",
      "lmp/executable/executable/mpi__index_4\n",
      "    TITLE: int\n",
      "lmp/executable/executable/name__index_1\n",
      "    TITLE: unicode\n",
      "lmp/executable/executable/operation_system_nt__index_2\n",
      "    TITLE: int\n",
      "lmp/executable/executable/version__index_0\n",
      "    TITLE: unicode\n",
      "lmp/input\n",
      "lmp/input/control_inp\n",
      "lmp/input/control_inp/NAME\n",
      "    TITLE: unicode\n",
      "lmp/input/control_inp/OBJECT\n",
      "    TITLE: unicode\n",
      "lmp/input/control_inp/TYPE\n",
      "    TITLE: unicode\n",
      "lmp/input/control_inp/VERSION\n",
      "    TITLE: unicode\n",
      "lmp/input/control_inp/data_dict\n",
      "    TITLE: json\n",
      "lmp/input/generic\n",
      "lmp/input/generic/NAME\n",
      "    TITLE: unicode\n",
      "lmp/input/generic/OBJECT\n",
      "    TITLE: unicode\n",
      "lmp/input/generic/TYPE\n",
      "    TITLE: unicode\n",
      "lmp/input/generic/VERSION\n",
      "    TITLE: unicode\n",
      "lmp/input/generic/data_dict\n",
      "    TITLE: json\n",
      "lmp/input/generic_dict\n",
      "    TITLE: json\n",
      "lmp/input/interactive\n",
      "    TITLE: json\n",
      "lmp/input/potential\n",
      "lmp/input/potential/Citations\n",
      "    TITLE: unicode\n",
      "lmp/input/potential/Config\n",
      "    TITLE: json\n",
      "lmp/input/potential/Filename\n",
      "    TITLE: json\n",
      "lmp/input/potential/Model\n",
      "    TITLE: unicode\n",
      "lmp/input/potential/Name\n",
      "    TITLE: unicode\n",
      "lmp/input/potential/Species\n",
      "    TITLE: json\n",
      "lmp/input/potential_inp\n",
      "lmp/input/potential_inp/NAME\n",
      "    TITLE: unicode\n",
      "lmp/input/potential_inp/OBJECT\n",
      "    TITLE: unicode\n",
      "lmp/input/potential_inp/TYPE\n",
      "    TITLE: unicode\n",
      "lmp/input/potential_inp/VERSION\n",
      "    TITLE: unicode\n",
      "lmp/input/potential_inp/data_dict\n",
      "    TITLE: json\n",
      "lmp/input/structure\n",
      "lmp/input/structure/TYPE\n",
      "    TITLE: unicode\n",
      "lmp/input/structure/cell\n",
      "lmp/input/structure/cell/cell\n",
      "    TITLE: ndarray\n",
      "lmp/input/structure/cell/pbc\n",
      "    TITLE: ndarray\n",
      "lmp/input/structure/dimension\n",
      "    TITLE: int\n",
      "lmp/input/structure/indices\n",
      "    TITLE: ndarray\n",
      "lmp/input/structure/info\n",
      "    TITLE: json\n",
      "lmp/input/structure/positions\n",
      "    TITLE: ndarray\n",
      "lmp/input/structure/species\n",
      "    TITLE: json\n",
      "lmp/input/structure/units\n",
      "    TITLE: json\n",
      "lmp/output\n",
      "lmp/output/generic\n",
      "lmp/output/generic/cells\n",
      "    TITLE: ndarray\n",
      "lmp/output/generic/energy_pot\n",
      "    TITLE: ndarray\n",
      "lmp/output/generic/energy_tot\n",
      "    TITLE: ndarray\n",
      "lmp/output/generic/forces\n",
      "    TITLE: ndarray\n",
      "lmp/output/generic/indices\n",
      "    TITLE: ndarray\n",
      "lmp/output/generic/natoms\n",
      "    TITLE: ndarray\n",
      "lmp/output/generic/positions\n",
      "    TITLE: ndarray\n",
      "lmp/output/generic/pressures\n",
      "    TITLE: ndarray\n",
      "lmp/output/generic/steps\n",
      "    TITLE: ndarray\n",
      "lmp/output/generic/temperature\n",
      "    TITLE: ndarray\n",
      "lmp/output/generic/unwrapped_positions\n",
      "    TITLE: ndarray\n",
      "lmp/output/generic/velocities\n",
      "    TITLE: ndarray\n",
      "lmp/output/generic/volume\n",
      "    TITLE: ndarray\n",
      "lmp/output/structure\n",
      "lmp/output/structure/TYPE\n",
      "    TITLE: unicode\n",
      "lmp/output/structure/cell\n",
      "lmp/output/structure/cell/cell\n",
      "    TITLE: ndarray\n",
      "lmp/output/structure/cell/pbc\n",
      "    TITLE: ndarray\n",
      "lmp/output/structure/dimension\n",
      "    TITLE: int\n",
      "lmp/output/structure/indices\n",
      "    TITLE: ndarray\n",
      "lmp/output/structure/info\n",
      "    TITLE: json\n",
      "lmp/output/structure/positions\n",
      "    TITLE: ndarray\n",
      "lmp/output/structure/species\n",
      "    TITLE: json\n",
      "lmp/output/structure/units\n",
      "    TITLE: json\n",
      "lmp/server\n",
      "    TITLE: json\n",
      "lmp/status\n",
      "    TITLE: unicode\n"
     ]
    }
   ],
   "source": [
    "with h5py.File(file_name, 'r') as f:\n",
    "    f.visititems(print_attrs)"
   ]
  },
  {
   "cell_type": "code",
   "execution_count": 18,
   "id": "d8ebbfd7",
   "metadata": {},
   "outputs": [],
   "source": [
    "with h5py.File(file_name, 'r') as f:\n",
    "    cells = f[\"lmp/output/generic/cells\"][:]\n",
    "    positions = f[\"lmp/output/generic/positions\"][:]\n",
    "    energy_tot = f[\"lmp/output/generic/energy_tot\"][:]\n",
    "    energy_pot = f[\"lmp/output/generic/energy_pot\"][:]\n",
    "    forces = f[\"lmp/output/generic/forces\"][:]\n",
    "    "
   ]
  },
  {
   "cell_type": "code",
   "execution_count": 19,
   "id": "c93b9a46",
   "metadata": {},
   "outputs": [
    {
     "data": {
      "text/plain": [
       "True"
      ]
     },
     "execution_count": 19,
     "metadata": {},
     "output_type": "execute_result"
    }
   ],
   "source": [
    "np.all(cells == job.output.cells)"
   ]
  },
  {
   "cell_type": "code",
   "execution_count": 20,
   "id": "020a11e9",
   "metadata": {},
   "outputs": [
    {
     "data": {
      "text/plain": [
       "True"
      ]
     },
     "execution_count": 20,
     "metadata": {},
     "output_type": "execute_result"
    }
   ],
   "source": [
    "np.all(positions == job.output.positions)"
   ]
  },
  {
   "cell_type": "code",
   "execution_count": 21,
   "id": "70fef442",
   "metadata": {},
   "outputs": [
    {
     "data": {
      "text/plain": [
       "True"
      ]
     },
     "execution_count": 21,
     "metadata": {},
     "output_type": "execute_result"
    }
   ],
   "source": [
    "np.all(energy_tot == job.output.energy_tot)"
   ]
  },
  {
   "cell_type": "code",
   "execution_count": 22,
   "id": "03a552d8",
   "metadata": {},
   "outputs": [
    {
     "data": {
      "text/plain": [
       "True"
      ]
     },
     "execution_count": 22,
     "metadata": {},
     "output_type": "execute_result"
    }
   ],
   "source": [
    "np.all(energy_pot == job.output.energy_pot)"
   ]
  },
  {
   "cell_type": "code",
   "execution_count": 23,
   "id": "20ed7600",
   "metadata": {},
   "outputs": [
    {
     "data": {
      "text/plain": [
       "True"
      ]
     },
     "execution_count": 23,
     "metadata": {},
     "output_type": "execute_result"
    }
   ],
   "source": [
    "np.all(forces == job.output.forces)"
   ]
  },
  {
   "cell_type": "code",
   "execution_count": null,
   "id": "50856833",
   "metadata": {},
   "outputs": [],
   "source": []
  }
 ],
 "metadata": {
  "kernelspec": {
   "display_name": "Python 3 (ipykernel)",
   "language": "python",
   "name": "python3"
  },
  "language_info": {
   "codemirror_mode": {
    "name": "ipython",
    "version": 3
   },
   "file_extension": ".py",
   "mimetype": "text/x-python",
   "name": "python",
   "nbconvert_exporter": "python",
   "pygments_lexer": "ipython3",
   "version": "3.10.10"
  }
 },
 "nbformat": 4,
 "nbformat_minor": 5
}
