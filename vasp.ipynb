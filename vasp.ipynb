{
 "cells": [
  {
   "cell_type": "code",
   "execution_count": 1,
   "id": "28a9f0ec",
   "metadata": {},
   "outputs": [],
   "source": [
    "import h5py"
   ]
  },
  {
   "cell_type": "code",
   "execution_count": 2,
   "id": "ab8e112a",
   "metadata": {},
   "outputs": [],
   "source": [
    "import numpy as np"
   ]
  },
  {
   "cell_type": "code",
   "execution_count": 3,
   "id": "ffd464bb",
   "metadata": {},
   "outputs": [
    {
     "name": "stderr",
     "output_type": "stream",
     "text": [
      "/u/system/SLES12/soft/pyiron/dev/anaconda3/lib/python3.10/site-packages/pandas/core/computation/expressions.py:21: UserWarning: Pandas requires version '2.8.0' or newer of 'numexpr' (version '2.7.3' currently installed).\n",
      "  from pandas.core.computation.check import NUMEXPR_INSTALLED\n"
     ]
    },
    {
     "data": {
      "application/vnd.jupyter.widget-view+json": {
       "model_id": "886cd6ba79b7450eaa6c1c7f50690bbe",
       "version_major": 2,
       "version_minor": 0
      },
      "text/plain": []
     },
     "metadata": {},
     "output_type": "display_data"
    }
   ],
   "source": [
    "from pyiron_atomistics import Project"
   ]
  },
  {
   "cell_type": "code",
   "execution_count": 4,
   "id": "0d95fc61",
   "metadata": {},
   "outputs": [],
   "source": [
    "pr = Project(\"test\")"
   ]
  },
  {
   "cell_type": "code",
   "execution_count": 5,
   "id": "64427095",
   "metadata": {},
   "outputs": [],
   "source": [
    "pr.remove_jobs(recursive=True, silently=True)"
   ]
  },
  {
   "cell_type": "code",
   "execution_count": 6,
   "id": "09b53d07",
   "metadata": {},
   "outputs": [],
   "source": [
    "structure = pr.create.structure.ase.bulk(\"Al\", cubic=True)"
   ]
  },
  {
   "cell_type": "code",
   "execution_count": 7,
   "id": "c2be1def",
   "metadata": {},
   "outputs": [
    {
     "data": {
      "text/plain": [
       "4"
      ]
     },
     "execution_count": 7,
     "metadata": {},
     "output_type": "execute_result"
    }
   ],
   "source": [
    "len(structure)"
   ]
  },
  {
   "cell_type": "code",
   "execution_count": 8,
   "id": "e26dd327",
   "metadata": {},
   "outputs": [],
   "source": [
    "job = pr.create.job.Vasp(\"vasp\")"
   ]
  },
  {
   "cell_type": "code",
   "execution_count": 9,
   "id": "f29a4da4",
   "metadata": {},
   "outputs": [],
   "source": [
    "job.structure = structure"
   ]
  },
  {
   "cell_type": "code",
   "execution_count": 10,
   "id": "d3dad632",
   "metadata": {},
   "outputs": [],
   "source": [
    "job.calc_minimize()"
   ]
  },
  {
   "cell_type": "code",
   "execution_count": 11,
   "id": "97a17236",
   "metadata": {},
   "outputs": [
    {
     "name": "stdout",
     "output_type": "stream",
     "text": [
      "The job vasp was saved and received the ID: 21551802\n"
     ]
    }
   ],
   "source": [
    "job.run()"
   ]
  },
  {
   "cell_type": "code",
   "execution_count": 12,
   "id": "59dacba5",
   "metadata": {},
   "outputs": [
    {
     "data": {
      "text/plain": [
       "'/cmmc/u/janj/notebooks/2024/2024-01-16-compare-hdf5/test/vasp.h5'"
      ]
     },
     "execution_count": 12,
     "metadata": {},
     "output_type": "execute_result"
    }
   ],
   "source": [
    "file_name = job.project_hdf5.file_name\n",
    "file_name"
   ]
  },
  {
   "cell_type": "code",
   "execution_count": 13,
   "id": "eb780614",
   "metadata": {},
   "outputs": [],
   "source": [
    "def print_attrs(name, obj):\n",
    "    print(name)\n",
    "    for key, val in obj.attrs.items():\n",
    "        print(\"    %s: %s\" % (key, val))"
   ]
  },
  {
   "cell_type": "code",
   "execution_count": 14,
   "id": "989f77eb",
   "metadata": {},
   "outputs": [
    {
     "name": "stdout",
     "output_type": "stream",
     "text": [
      "vasp\n",
      "vasp/HDF_VERSION\n",
      "    TITLE: unicode\n",
      "vasp/NAME\n",
      "    TITLE: unicode\n",
      "vasp/TYPE\n",
      "    TITLE: unicode\n",
      "vasp/VERSION\n",
      "    TITLE: unicode\n",
      "vasp/executable\n",
      "vasp/executable/HDF_VERSION\n",
      "    TITLE: unicode\n",
      "vasp/executable/NAME\n",
      "    TITLE: unicode\n",
      "vasp/executable/OBJECT\n",
      "    TITLE: unicode\n",
      "vasp/executable/TYPE\n",
      "    TITLE: unicode\n",
      "vasp/executable/executable\n",
      "vasp/executable/executable/HDF_VERSION\n",
      "    TITLE: unicode\n",
      "vasp/executable/executable/NAME\n",
      "    TITLE: unicode\n",
      "vasp/executable/executable/OBJECT\n",
      "    TITLE: unicode\n",
      "vasp/executable/executable/READ_ONLY\n",
      "    TITLE: int\n",
      "vasp/executable/executable/TYPE\n",
      "    TITLE: unicode\n",
      "vasp/executable/executable/VERSION\n",
      "    TITLE: unicode\n",
      "vasp/executable/executable/accepted_return_codes__index_5\n",
      "    TITLE: json\n",
      "vasp/executable/executable/executable__index_3\n",
      "    TITLE: None\n",
      "vasp/executable/executable/mpi__index_4\n",
      "    TITLE: int\n",
      "vasp/executable/executable/name__index_1\n",
      "    TITLE: unicode\n",
      "vasp/executable/executable/operation_system_nt__index_2\n",
      "    TITLE: int\n",
      "vasp/executable/executable/version__index_0\n",
      "    TITLE: unicode\n",
      "vasp/input\n",
      "vasp/input/generic\n",
      "vasp/input/generic/NAME\n",
      "    TITLE: unicode\n",
      "vasp/input/generic/OBJECT\n",
      "    TITLE: unicode\n",
      "vasp/input/generic/TYPE\n",
      "    TITLE: unicode\n",
      "vasp/input/generic/VERSION\n",
      "    TITLE: unicode\n",
      "vasp/input/generic/data_dict\n",
      "    TITLE: json\n",
      "vasp/input/generic_dict\n",
      "    TITLE: json\n",
      "vasp/input/incar\n",
      "vasp/input/incar/NAME\n",
      "    TITLE: unicode\n",
      "vasp/input/incar/OBJECT\n",
      "    TITLE: unicode\n",
      "vasp/input/incar/TYPE\n",
      "    TITLE: unicode\n",
      "vasp/input/incar/VERSION\n",
      "    TITLE: unicode\n",
      "vasp/input/incar/data_dict\n",
      "    TITLE: json\n",
      "vasp/input/interactive\n",
      "    TITLE: json\n",
      "vasp/input/kpoints\n",
      "vasp/input/kpoints/NAME\n",
      "    TITLE: unicode\n",
      "vasp/input/kpoints/OBJECT\n",
      "    TITLE: unicode\n",
      "vasp/input/kpoints/TYPE\n",
      "    TITLE: unicode\n",
      "vasp/input/kpoints/VERSION\n",
      "    TITLE: unicode\n",
      "vasp/input/kpoints/data_dict\n",
      "    TITLE: json\n",
      "vasp/input/potcar\n",
      "vasp/input/potcar/NAME\n",
      "    TITLE: unicode\n",
      "vasp/input/potcar/OBJECT\n",
      "    TITLE: unicode\n",
      "vasp/input/potcar/TYPE\n",
      "    TITLE: unicode\n",
      "vasp/input/potcar/VERSION\n",
      "    TITLE: unicode\n",
      "vasp/input/potcar/data_dict\n",
      "    TITLE: json\n",
      "vasp/input/structure\n",
      "vasp/input/structure/TYPE\n",
      "    TITLE: unicode\n",
      "vasp/input/structure/cell\n",
      "vasp/input/structure/cell/cell\n",
      "    TITLE: ndarray\n",
      "vasp/input/structure/cell/pbc\n",
      "    TITLE: ndarray\n",
      "vasp/input/structure/dimension\n",
      "    TITLE: int\n",
      "vasp/input/structure/indices\n",
      "    TITLE: ndarray\n",
      "vasp/input/structure/info\n",
      "    TITLE: json\n",
      "vasp/input/structure/positions\n",
      "    TITLE: ndarray\n",
      "vasp/input/structure/species\n",
      "    TITLE: json\n",
      "vasp/input/structure/units\n",
      "    TITLE: json\n",
      "vasp/input/vasp_dict\n",
      "    TITLE: json\n",
      "vasp/job_id\n",
      "    TITLE: int\n",
      "vasp/output\n",
      "vasp/output/charge_density\n",
      "vasp/output/charge_density/TYPE\n",
      "    TITLE: unicode\n",
      "vasp/output/charge_density/total\n",
      "    TITLE: ndarray\n",
      "vasp/output/description\n",
      "    TITLE: unicode\n",
      "vasp/output/electronic_structure\n",
      "vasp/output/electronic_structure/TYPE\n",
      "    TITLE: unicode\n",
      "vasp/output/electronic_structure/dos\n",
      "vasp/output/electronic_structure/dos/energies\n",
      "    TITLE: ndarray\n",
      "vasp/output/electronic_structure/dos/int_densities\n",
      "    TITLE: ndarray\n",
      "vasp/output/electronic_structure/dos/tot_densities\n",
      "    TITLE: ndarray\n",
      "vasp/output/electronic_structure/efermi\n",
      "    TITLE: float\n",
      "vasp/output/electronic_structure/eig_matrix\n",
      "    TITLE: ndarray\n",
      "vasp/output/electronic_structure/k_points\n",
      "    TITLE: ndarray\n",
      "vasp/output/electronic_structure/k_weights\n",
      "    TITLE: ndarray\n",
      "vasp/output/electronic_structure/occ_matrix\n",
      "    TITLE: ndarray\n",
      "vasp/output/generic\n",
      "vasp/output/generic/cells\n",
      "    TITLE: ndarray\n",
      "vasp/output/generic/dft\n",
      "vasp/output/generic/dft/bands\n",
      "vasp/output/generic/dft/bands/TYPE\n",
      "    TITLE: unicode\n",
      "vasp/output/generic/dft/bands/dos\n",
      "vasp/output/generic/dft/bands/dos/energies\n",
      "    TITLE: ndarray\n",
      "vasp/output/generic/dft/bands/dos/int_densities\n",
      "    TITLE: ndarray\n",
      "vasp/output/generic/dft/bands/dos/tot_densities\n",
      "    TITLE: ndarray\n",
      "vasp/output/generic/dft/bands/efermi\n",
      "    TITLE: float\n",
      "vasp/output/generic/dft/bands/eig_matrix\n",
      "    TITLE: ndarray\n",
      "vasp/output/generic/dft/bands/k_points\n",
      "    TITLE: ndarray\n",
      "vasp/output/generic/dft/bands/k_weights\n",
      "    TITLE: ndarray\n",
      "vasp/output/generic/dft/bands/occ_matrix\n",
      "    TITLE: ndarray\n",
      "vasp/output/generic/dft/cbm_list\n",
      "    TITLE: ndarray\n",
      "vasp/output/generic/dft/e_fermi_list\n",
      "    TITLE: ndarray\n",
      "vasp/output/generic/dft/energy_free\n",
      "    TITLE: ndarray\n",
      "vasp/output/generic/dft/energy_int\n",
      "    TITLE: ndarray\n",
      "vasp/output/generic/dft/energy_zero\n",
      "    TITLE: ndarray\n",
      "vasp/output/generic/dft/final_magmoms\n",
      "    TITLE: json\n",
      "vasp/output/generic/dft/magnetization\n",
      "    TITLE: json\n",
      "vasp/output/generic/dft/n_elect\n",
      "    TITLE: float\n",
      "vasp/output/generic/dft/potentiostat_output\n",
      "    TITLE: None\n",
      "vasp/output/generic/dft/scf_dipole_mom\n",
      "    TITLE: json\n",
      "vasp/output/generic/dft/scf_energy_free\n",
      "    TITLE: json\n",
      "vasp/output/generic/dft/scf_energy_int\n",
      "    TITLE: json\n",
      "vasp/output/generic/dft/scf_energy_zero\n",
      "    TITLE: json\n",
      "vasp/output/generic/dft/valence_charges\n",
      "    TITLE: ndarray\n",
      "vasp/output/generic/dft/vbm_list\n",
      "    TITLE: ndarray\n",
      "vasp/output/generic/elastic_constants\n",
      "    TITLE: None\n",
      "vasp/output/generic/energy_pot\n",
      "    TITLE: ndarray\n",
      "vasp/output/generic/energy_tot\n",
      "    TITLE: ndarray\n",
      "vasp/output/generic/forces\n",
      "    TITLE: ndarray\n",
      "vasp/output/generic/positions\n",
      "    TITLE: ndarray\n",
      "vasp/output/generic/pressures\n",
      "    TITLE: ndarray\n",
      "vasp/output/generic/steps\n",
      "    TITLE: ndarray\n",
      "vasp/output/generic/stresses\n",
      "    TITLE: ndarray\n",
      "vasp/output/generic/temperature\n",
      "    TITLE: ndarray\n",
      "vasp/output/generic/volume\n",
      "    TITLE: ndarray\n",
      "vasp/output/outcar\n",
      "vasp/output/outcar/broyden_mixing\n",
      "    TITLE: np_int64\n",
      "vasp/output/outcar/energy_components\n",
      "    TITLE: list\n",
      "vasp/output/outcar/energy_components/idx_0\n",
      "    TITLE: ndarray\n",
      "vasp/output/outcar/irreducible_kpoint_weights\n",
      "    TITLE: ndarray\n",
      "vasp/output/outcar/irreducible_kpoints\n",
      "    TITLE: ndarray\n",
      "vasp/output/outcar/kin_energy_error\n",
      "    TITLE: float\n",
      "vasp/output/outcar/number_plane_waves\n",
      "    TITLE: ndarray\n",
      "vasp/output/outcar/resources\n",
      "    TITLE: json\n",
      "vasp/output/outcar/stresses\n",
      "    TITLE: ndarray\n",
      "vasp/output/structure\n",
      "vasp/output/structure/TYPE\n",
      "    TITLE: unicode\n",
      "vasp/output/structure/cell\n",
      "vasp/output/structure/cell/cell\n",
      "    TITLE: ndarray\n",
      "vasp/output/structure/cell/pbc\n",
      "    TITLE: ndarray\n",
      "vasp/output/structure/dimension\n",
      "    TITLE: int\n",
      "vasp/output/structure/indices\n",
      "    TITLE: ndarray\n",
      "vasp/output/structure/info\n",
      "    TITLE: json\n",
      "vasp/output/structure/positions\n",
      "    TITLE: ndarray\n",
      "vasp/output/structure/species\n",
      "    TITLE: json\n",
      "vasp/output/structure/units\n",
      "    TITLE: json\n",
      "vasp/server\n",
      "    TITLE: json\n",
      "vasp/status\n",
      "    TITLE: unicode\n"
     ]
    }
   ],
   "source": [
    "with h5py.File(file_name, 'r') as f:\n",
    "    f.visititems(print_attrs)"
   ]
  },
  {
   "cell_type": "code",
   "execution_count": null,
   "id": "50856833",
   "metadata": {},
   "outputs": [],
   "source": []
  }
 ],
 "metadata": {
  "kernelspec": {
   "display_name": "Python 3 (ipykernel)",
   "language": "python",
   "name": "python3"
  },
  "language_info": {
   "codemirror_mode": {
    "name": "ipython",
    "version": 3
   },
   "file_extension": ".py",
   "mimetype": "text/x-python",
   "name": "python",
   "nbconvert_exporter": "python",
   "pygments_lexer": "ipython3",
   "version": "3.10.8"
  }
 },
 "nbformat": 4,
 "nbformat_minor": 5
}
