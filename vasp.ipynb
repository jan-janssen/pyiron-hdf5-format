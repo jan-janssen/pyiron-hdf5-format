{
 "cells": [
  {
   "cell_type": "markdown",
   "id": "8c0bad64-faf8-4a5d-ae50-b9044d7ef20c",
   "metadata": {},
   "source": [
    "# Functions and Imports - no pyiron dependence"
   ]
  },
  {
   "cell_type": "code",
   "execution_count": 1,
   "id": "28a9f0ec",
   "metadata": {},
   "outputs": [],
   "source": [
    "from h5io_browser import Pointer\n",
    "from h5io_browser.base import _open_hdf, _read_hdf\n",
    "import h5py\n",
    "import posixpath\n",
    "import os"
   ]
  },
  {
   "cell_type": "code",
   "execution_count": 2,
   "id": "e6506f30-fc93-4ea4-9bf9-823ba069084c",
   "metadata": {},
   "outputs": [],
   "source": [
    "def list_groups_and_nodes(hdf, h5_path):\n",
    "    \"\"\"\n",
    "    Get the list of groups and list of nodes from an open HDF5 file\n",
    "\n",
    "    Args:\n",
    "        hdf (h5py.File): file handle of an open HDF5 file\n",
    "        h5_path (str): path inside the HDF5 file\n",
    "\n",
    "    Returns:\n",
    "        list, list: list of groups and list of nodes\n",
    "    \"\"\"\n",
    "    groups = set()\n",
    "    nodes = set()\n",
    "    try:\n",
    "        h = hdf[h5_path]\n",
    "        for k in h.keys():\n",
    "            if isinstance(h[k], h5py.Group):\n",
    "                group_attrs_dict = h[k].attrs\n",
    "                if 'TITLE' in group_attrs_dict.keys() and group_attrs_dict['TITLE'] == 'multiarray':\n",
    "                    nodes.add(k)\n",
    "                else:\n",
    "                    groups.add(k)\n",
    "            else:\n",
    "                nodes.add(k)\n",
    "    except KeyError:\n",
    "        pass\n",
    "    return list(groups), list(nodes)"
   ]
  },
  {
   "cell_type": "code",
   "execution_count": 3,
   "id": "80fe461a-e94c-418b-b605-83a4309f7410",
   "metadata": {},
   "outputs": [],
   "source": [
    "def get_h5_path(h5_path, name):\n",
    "    \"\"\"\n",
    "    Combine the current h5_path with the relative path\n",
    "\n",
    "    Args:\n",
    "        h5_path (str): absolute path of the node in the hdf5 file\n",
    "        name (str): relative path to be added to the absolute path\n",
    "\n",
    "    Returns:\n",
    "        str: combined path\n",
    "    \"\"\"\n",
    "    return posixpath.join(h5_path, name)"
   ]
  },
  {
   "cell_type": "code",
   "execution_count": 4,
   "id": "f34e4b06-4d5c-4593-9dd3-0b9fd51261ce",
   "metadata": {},
   "outputs": [],
   "source": [
    "def read_dict_from_hdf(\n",
    "    file_name, h5_path, recursive=False, group_paths=[], slash=\"ignore\"\n",
    "):\n",
    "    \"\"\"\n",
    "    Read data from HDF5 file into a dictionary - by default only the nodes are converted to dictionaries, additional\n",
    "    sub groups can be specified using the group_paths parameter.\n",
    "    Args:\n",
    "       file_name (str): Name of the file on disk\n",
    "       h5_path (str): Path to a group in the HDF5 file from where the data is read\n",
    "       recursive (bool): Load all subgroups recursively\n",
    "       group_paths (list): list of additional groups to be included in the dictionary, for example:\n",
    "                           [\"input\", \"output\", \"output/generic\"]\n",
    "                           These groups are defined relative to the h5_path.\n",
    "       slash (str): 'ignore' | 'replace' Whether to replace the string {FWDSLASH} with the value /. This does\n",
    "                    not apply to the top level name (title). If 'ignore', nothing will be replaced.\n",
    "    Returns:\n",
    "       dict:     The loaded data. Can be of any type supported by ``write_hdf5``.\n",
    "    \"\"\"\n",
    "\n",
    "    def get_dict_from_nodes(store, h5_path, slash=\"ignore\"):\n",
    "        \"\"\"\n",
    "        Load all nodes from an HDF5 path into a dictionary\n",
    "        Args:\n",
    "            store (str): Name of the file on disk, or file-like object.  Note: for files created with the 'core'\n",
    "                         driver, HDF5 still requires this be non-empty.:\n",
    "            h5_path (str): Path to a group in the HDF5 file from where the data is read\n",
    "            slash (str): 'ignore' | 'replace' Whether to replace the string {FWDSLASH} with the value /. This does\n",
    "                         not apply to the top level name (title). If 'ignore', nothing will be replaced.\n",
    "        Returns:\n",
    "            dict:        The loaded data. Can be of any type supported by ``write_hdf5``.\n",
    "        \"\"\"\n",
    "        return {\n",
    "            n: _read_hdf(\n",
    "                hdf_filehandle=store,\n",
    "                h5_path=get_h5_path(h5_path=h5_path, name=n),\n",
    "                slash=slash,\n",
    "            )\n",
    "            for n in list_groups_and_nodes(hdf=store, h5_path=h5_path)[1]\n",
    "        }\n",
    "\n",
    "    def resolve_nested_dict(group_path, data_dict):\n",
    "        \"\"\"\n",
    "        Turns a dict with a key containing slashes into a nested dict.  {'/a/b/c': 1} -> {'a': {'b': {'c': 1}\n",
    "        Args:\n",
    "            group_path (str): path inside the HDF5 file the data_dictionary was loaded from\n",
    "            data_dict (dict): dictionary with data loaded from the HDF5 file\n",
    "        Returns:\n",
    "            dict: hierarchical dictionary\n",
    "        \"\"\"\n",
    "        groups = group_path.split(\"/\")\n",
    "        nested_dict = data_dict\n",
    "        for g in groups[::-1]:\n",
    "            nested_dict = {g: nested_dict}\n",
    "        return nested_dict\n",
    "\n",
    "    def get_groups_hdf(hdf, h5_path):\n",
    "        \"\"\"\n",
    "        Get all sub-groups of a given HDF5 path\n",
    "        Args:\n",
    "            hdf (str): Name of the file on disk, or file-like object.  Note: for files created with the 'core'\n",
    "                       driver, HDF5 still requires this be non-empty.:\n",
    "            h5_path (str): Path to a group in the HDF5 file from where the data is read\n",
    "        Returns:\n",
    "            list: list of HDF5 groups\n",
    "        \"\"\"\n",
    "        try:\n",
    "            h = hdf[h5_path]\n",
    "            group_lst = []\n",
    "            for group in [h[k].name for k in h.keys() if isinstance(h[k], h5py.Group)]:\n",
    "                group_attrs_dict = h[group].attrs\n",
    "                if 'TITLE' in group_attrs_dict.keys() and group_attrs_dict['TITLE'] != 'multiarray':\n",
    "                    group_lst += [group] + get_groups_hdf(hdf=hdf, h5_path=group)\n",
    "                elif 'TITLE' not in group_attrs_dict.keys():\n",
    "                    group_lst += [group] + get_groups_hdf(hdf=hdf, h5_path=group)\n",
    "            return group_lst\n",
    "        except KeyError:\n",
    "            return []\n",
    "\n",
    "    def merge_dict(main_dict, add_dict):\n",
    "        \"\"\"\n",
    "        Merge two dictionaries recursively\n",
    "\n",
    "        Args:\n",
    "            main_dict (dict): The primary dictionary, the secondary dictionary is merged into\n",
    "            add_dict (dict): The secondary dictionary which is merged in the primary dictionary\n",
    "\n",
    "        Returns:\n",
    "            dict: The merged dictionary with all keys\n",
    "        \"\"\"\n",
    "        for k, v in add_dict.items():\n",
    "            if k in main_dict.keys() and isinstance(v, dict):\n",
    "                main_dict[k] = merge_dict(main_dict=main_dict[k], add_dict=v)\n",
    "            else:\n",
    "                main_dict[k] = v\n",
    "        return main_dict\n",
    "\n",
    "    if recursive and len(group_paths) > 0:\n",
    "        raise ValueError(\n",
    "            \"Loading subgroups can either be defined by the group paths \",\n",
    "            group_paths,\n",
    "            \" or by the recursive \",\n",
    "            recursive,\n",
    "            \" parameter. Specifying both lead to this ValueError.\",\n",
    "        )\n",
    "\n",
    "    with _open_hdf(file_name, mode=\"r\") as store:\n",
    "        output_dict = get_dict_from_nodes(store=store, h5_path=h5_path, slash=slash)\n",
    "        if h5_path == \"/\" and recursive:\n",
    "            group_paths = [g[1:] for g in get_groups_hdf(hdf=store, h5_path=h5_path)]\n",
    "        elif h5_path[0] != \"/\" and recursive:\n",
    "            group_paths = [\n",
    "                g[len(\"/\" + h5_path) + 1 :]\n",
    "                for g in get_groups_hdf(hdf=store, h5_path=\"/\" + h5_path)\n",
    "            ]\n",
    "        elif recursive:\n",
    "            group_paths = [\n",
    "                g[len(h5_path) + 1 :]\n",
    "                for g in get_groups_hdf(hdf=store, h5_path=h5_path)\n",
    "            ]\n",
    "        for group_path in group_paths:\n",
    "            output_dict = merge_dict(\n",
    "                main_dict=output_dict,\n",
    "                add_dict=resolve_nested_dict(\n",
    "                    group_path=group_path,\n",
    "                    data_dict=get_dict_from_nodes(\n",
    "                        store=store,\n",
    "                        h5_path=get_h5_path(h5_path=h5_path, name=group_path),\n",
    "                        slash=slash,\n",
    "                    ),\n",
    "                ),\n",
    "            )\n",
    "    return output_dict"
   ]
  },
  {
   "cell_type": "markdown",
   "id": "c14198a4-2324-4bb6-bff8-fcc5818dcdfc",
   "metadata": {},
   "source": [
    "# Create VASP job"
   ]
  },
  {
   "cell_type": "code",
   "execution_count": 5,
   "id": "ffd464bb",
   "metadata": {},
   "outputs": [
    {
     "data": {
      "application/vnd.jupyter.widget-view+json": {
       "model_id": "6b982137d9f04f3087d7e11ea59975ed",
       "version_major": 2,
       "version_minor": 0
      },
      "text/plain": []
     },
     "metadata": {},
     "output_type": "display_data"
    }
   ],
   "source": [
    "from pyiron_atomistics import Project"
   ]
  },
  {
   "cell_type": "code",
   "execution_count": 6,
   "id": "0d95fc61",
   "metadata": {},
   "outputs": [],
   "source": [
    "pr = Project(\"test\")"
   ]
  },
  {
   "cell_type": "code",
   "execution_count": 7,
   "id": "64427095",
   "metadata": {},
   "outputs": [
    {
     "data": {
      "application/vnd.jupyter.widget-view+json": {
       "model_id": "b24afa2522724e0a8c2a6463d7f88d90",
       "version_major": 2,
       "version_minor": 0
      },
      "text/plain": [
       "0it [00:00, ?it/s]"
      ]
     },
     "metadata": {},
     "output_type": "display_data"
    }
   ],
   "source": [
    "pr.remove_jobs(recursive=True, silently=True)"
   ]
  },
  {
   "cell_type": "code",
   "execution_count": 8,
   "id": "09b53d07",
   "metadata": {},
   "outputs": [],
   "source": [
    "structure = pr.create.structure.ase.bulk(\"Al\", cubic=True)"
   ]
  },
  {
   "cell_type": "code",
   "execution_count": 9,
   "id": "c2be1def",
   "metadata": {},
   "outputs": [
    {
     "data": {
      "text/plain": [
       "4"
      ]
     },
     "execution_count": 9,
     "metadata": {},
     "output_type": "execute_result"
    }
   ],
   "source": [
    "len(structure)"
   ]
  },
  {
   "cell_type": "code",
   "execution_count": 10,
   "id": "e26dd327",
   "metadata": {},
   "outputs": [],
   "source": [
    "job = pr.create.job.Vasp(\"vasp\")"
   ]
  },
  {
   "cell_type": "code",
   "execution_count": 11,
   "id": "f29a4da4",
   "metadata": {},
   "outputs": [],
   "source": [
    "job.structure =structure"
   ]
  },
  {
   "cell_type": "code",
   "execution_count": 12,
   "id": "d3dad632",
   "metadata": {},
   "outputs": [],
   "source": [
    "job.calc_minimize()"
   ]
  },
  {
   "cell_type": "code",
   "execution_count": 13,
   "id": "97a17236",
   "metadata": {},
   "outputs": [
    {
     "name": "stdout",
     "output_type": "stream",
     "text": [
      "The job vasp was saved and received the ID: 22805519\n"
     ]
    }
   ],
   "source": [
    "job.run()"
   ]
  },
  {
   "cell_type": "markdown",
   "id": "f2ee05b2-b077-4d3a-a90c-84c82b1f33ff",
   "metadata": {},
   "source": [
    "# Read job dictionary"
   ]
  },
  {
   "cell_type": "code",
   "execution_count": 14,
   "id": "ffe89737-3017-4d1f-918f-536b0af5c9f6",
   "metadata": {},
   "outputs": [],
   "source": [
    "job_dict = read_dict_from_hdf(\n",
    "    file_name=job.project_hdf5.file_name,\n",
    "    h5_path=\"/\",\n",
    "    recursive=True,\n",
    "    group_paths=[],\n",
    "    slash='ignore',\n",
    ")"
   ]
  },
  {
   "cell_type": "markdown",
   "id": "833b5bf1-7082-4eea-be5f-c7c29a5a8ae2",
   "metadata": {},
   "source": [
    "# Get VASP schema"
   ]
  },
  {
   "cell_type": "code",
   "execution_count": 15,
   "id": "59dacba5",
   "metadata": {},
   "outputs": [
    {
     "data": {
      "text/plain": [
       "'/cmmc/u/janj/notebooks/2024/2024-06-06-read-hdf/test/vasp.h5'"
      ]
     },
     "execution_count": 15,
     "metadata": {},
     "output_type": "execute_result"
    }
   ],
   "source": [
    "file_name = job.project_hdf5.file_name\n",
    "file_name"
   ]
  },
  {
   "cell_type": "code",
   "execution_count": 16,
   "id": "d47a3751-36e4-4e3b-ae2c-2acf311ac81d",
   "metadata": {},
   "outputs": [],
   "source": [
    "key_dict = {}\n",
    "def collect_attrs(name, obj):\n",
    "    if len(obj.attrs) != 0:\n",
    "        key_dict[name] = obj.attrs[\"TITLE\"]\n",
    "    \n",
    "with h5py.File(file_name, 'r') as f:\n",
    "    f.visititems(collect_attrs)"
   ]
  },
  {
   "cell_type": "code",
   "execution_count": 17,
   "id": "fe15d593-fdd4-4b22-8714-d92abf30bba2",
   "metadata": {},
   "outputs": [
    {
     "data": {
      "text/plain": [
       "['vasp/DICT_VERSION',\n",
       " 'vasp/HDF_VERSION',\n",
       " 'vasp/NAME',\n",
       " 'vasp/OBJECT',\n",
       " 'vasp/TYPE',\n",
       " 'vasp/VERSION',\n",
       " 'vasp/executable',\n",
       " 'vasp/input/generic/DICT_VERSION',\n",
       " 'vasp/input/generic/NAME',\n",
       " 'vasp/input/generic/OBJECT',\n",
       " 'vasp/input/generic/TYPE',\n",
       " 'vasp/input/generic/VERSION',\n",
       " 'vasp/input/generic/data_dict',\n",
       " 'vasp/input/generic_dict',\n",
       " 'vasp/input/incar/DICT_VERSION',\n",
       " 'vasp/input/incar/NAME',\n",
       " 'vasp/input/incar/OBJECT',\n",
       " 'vasp/input/incar/TYPE',\n",
       " 'vasp/input/incar/VERSION',\n",
       " 'vasp/input/incar/data_dict',\n",
       " 'vasp/input/interactive',\n",
       " 'vasp/input/kpoints/DICT_VERSION',\n",
       " 'vasp/input/kpoints/NAME',\n",
       " 'vasp/input/kpoints/OBJECT',\n",
       " 'vasp/input/kpoints/TYPE',\n",
       " 'vasp/input/kpoints/VERSION',\n",
       " 'vasp/input/kpoints/data_dict',\n",
       " 'vasp/input/potcar/DICT_VERSION',\n",
       " 'vasp/input/potcar/NAME',\n",
       " 'vasp/input/potcar/OBJECT',\n",
       " 'vasp/input/potcar/TYPE',\n",
       " 'vasp/input/potcar/VERSION',\n",
       " 'vasp/input/potcar/data_dict',\n",
       " 'vasp/input/potential_dict',\n",
       " 'vasp/input/structure/TYPE',\n",
       " 'vasp/input/structure/cell/cell',\n",
       " 'vasp/input/structure/cell/pbc',\n",
       " 'vasp/input/structure/dimension',\n",
       " 'vasp/input/structure/indices',\n",
       " 'vasp/input/structure/info',\n",
       " 'vasp/input/structure/positions',\n",
       " 'vasp/input/structure/species',\n",
       " 'vasp/input/structure/units',\n",
       " 'vasp/input/vasp_dict/eddrmm_handling',\n",
       " 'vasp/job_id',\n",
       " 'vasp/output/charge_density/TYPE',\n",
       " 'vasp/output/charge_density/total',\n",
       " 'vasp/output/description',\n",
       " 'vasp/output/electronic_structure/TYPE',\n",
       " 'vasp/output/electronic_structure/dos/energies',\n",
       " 'vasp/output/electronic_structure/dos/int_densities',\n",
       " 'vasp/output/electronic_structure/dos/tot_densities',\n",
       " 'vasp/output/electronic_structure/efermi',\n",
       " 'vasp/output/electronic_structure/eig_matrix',\n",
       " 'vasp/output/electronic_structure/k_points',\n",
       " 'vasp/output/electronic_structure/k_weights',\n",
       " 'vasp/output/electronic_structure/occ_matrix',\n",
       " 'vasp/output/generic/cells',\n",
       " 'vasp/output/generic/dft/bands/TYPE',\n",
       " 'vasp/output/generic/dft/bands/dos/energies',\n",
       " 'vasp/output/generic/dft/bands/dos/int_densities',\n",
       " 'vasp/output/generic/dft/bands/dos/tot_densities',\n",
       " 'vasp/output/generic/dft/bands/efermi',\n",
       " 'vasp/output/generic/dft/bands/eig_matrix',\n",
       " 'vasp/output/generic/dft/bands/k_points',\n",
       " 'vasp/output/generic/dft/bands/k_weights',\n",
       " 'vasp/output/generic/dft/bands/occ_matrix',\n",
       " 'vasp/output/generic/dft/cbm_list',\n",
       " 'vasp/output/generic/dft/e_fermi_list',\n",
       " 'vasp/output/generic/dft/energy_free',\n",
       " 'vasp/output/generic/dft/energy_int',\n",
       " 'vasp/output/generic/dft/energy_zero',\n",
       " 'vasp/output/generic/dft/final_magmoms',\n",
       " 'vasp/output/generic/dft/magnetization',\n",
       " 'vasp/output/generic/dft/n_elect',\n",
       " 'vasp/output/generic/dft/potentiostat_output',\n",
       " 'vasp/output/generic/dft/scf_dipole_mom',\n",
       " 'vasp/output/generic/dft/scf_energy_free',\n",
       " 'vasp/output/generic/dft/scf_energy_int',\n",
       " 'vasp/output/generic/dft/scf_energy_zero',\n",
       " 'vasp/output/generic/dft/valence_charges',\n",
       " 'vasp/output/generic/dft/vbm_list',\n",
       " 'vasp/output/generic/elastic_constants',\n",
       " 'vasp/output/generic/energy_pot',\n",
       " 'vasp/output/generic/energy_tot',\n",
       " 'vasp/output/generic/forces',\n",
       " 'vasp/output/generic/positions',\n",
       " 'vasp/output/generic/pressures',\n",
       " 'vasp/output/generic/steps',\n",
       " 'vasp/output/generic/stresses',\n",
       " 'vasp/output/generic/temperature',\n",
       " 'vasp/output/generic/volume',\n",
       " 'vasp/output/outcar/broyden_mixing',\n",
       " 'vasp/output/outcar/energy_components',\n",
       " 'vasp/output/outcar/energy_components/idx_0',\n",
       " 'vasp/output/outcar/irreducible_kpoint_weights',\n",
       " 'vasp/output/outcar/irreducible_kpoints',\n",
       " 'vasp/output/outcar/kin_energy_error',\n",
       " 'vasp/output/outcar/number_plane_waves',\n",
       " 'vasp/output/outcar/resources',\n",
       " 'vasp/output/outcar/stresses',\n",
       " 'vasp/output/structure/TYPE',\n",
       " 'vasp/output/structure/cell/cell',\n",
       " 'vasp/output/structure/cell/pbc',\n",
       " 'vasp/output/structure/dimension',\n",
       " 'vasp/output/structure/indices',\n",
       " 'vasp/output/structure/info',\n",
       " 'vasp/output/structure/positions',\n",
       " 'vasp/output/structure/species',\n",
       " 'vasp/output/structure/units',\n",
       " 'vasp/server',\n",
       " 'vasp/status']"
      ]
     },
     "execution_count": 17,
     "metadata": {},
     "output_type": "execute_result"
    }
   ],
   "source": [
    "group_lst, node_lst = [], []\n",
    "for k, v in key_dict.items():\n",
    "    if len([g for g in group_lst if g in k]) == 0:\n",
    "        node_lst.append(k)\n",
    "        if v == \"multiarray\":\n",
    "            group_lst.append(k)\n",
    "node_lst"
   ]
  },
  {
   "cell_type": "markdown",
   "id": "665bf1f4-f4b1-4e7f-a2bf-a1c4216ad5f3",
   "metadata": {},
   "source": [
    "# Write VASP job"
   ]
  },
  {
   "cell_type": "code",
   "execution_count": 18,
   "id": "a85b3af6-3ae9-49f0-9d01-f5622380933e",
   "metadata": {},
   "outputs": [],
   "source": [
    "def get_node_from_job_dict(job_dict, node):\n",
    "    node_name_lst = node.split(\"/\")\n",
    "    tmp_dict = job_dict\n",
    "    for group in node_name_lst:\n",
    "        tmp_dict = tmp_dict[group]\n",
    "    return tmp_dict"
   ]
  },
  {
   "cell_type": "code",
   "execution_count": 19,
   "id": "c338fd0c-ff15-45d7-8227-bbe82117ca15",
   "metadata": {},
   "outputs": [],
   "source": [
    "node_dict = {node: get_node_from_job_dict(job_dict=job_dict, node=node) for node in node_lst}"
   ]
  },
  {
   "cell_type": "code",
   "execution_count": 20,
   "id": "12320454-cbbc-4fbe-936b-a15e8c2dd744",
   "metadata": {},
   "outputs": [],
   "source": [
    "os.remove(file_name)"
   ]
  },
  {
   "cell_type": "code",
   "execution_count": 21,
   "id": "989f77eb",
   "metadata": {},
   "outputs": [],
   "source": [
    "with Pointer(file_name=file_name) as hdf_file:\n",
    "    hdf_file.write_dict(node_dict)"
   ]
  },
  {
   "cell_type": "markdown",
   "id": "dbb0c2c1-1873-4a6a-8419-119bd51a4684",
   "metadata": {},
   "source": [
    "# Reload job"
   ]
  },
  {
   "cell_type": "code",
   "execution_count": 22,
   "id": "cb00164e-25a4-4d0d-87bc-7ee9d14422f6",
   "metadata": {},
   "outputs": [],
   "source": [
    "job = pr.load(job.job_name)"
   ]
  },
  {
   "cell_type": "code",
   "execution_count": 23,
   "id": "8497be06-dd2c-446e-9f3f-7ea89e0aed4d",
   "metadata": {},
   "outputs": [
    {
     "data": {
      "text/html": [
       "<div>\n",
       "<style scoped>\n",
       "    .dataframe tbody tr th:only-of-type {\n",
       "        vertical-align: middle;\n",
       "    }\n",
       "\n",
       "    .dataframe tbody tr th {\n",
       "        vertical-align: top;\n",
       "    }\n",
       "\n",
       "    .dataframe thead th {\n",
       "        text-align: right;\n",
       "    }\n",
       "</style>\n",
       "<table border=\"1\" class=\"dataframe\">\n",
       "  <thead>\n",
       "    <tr style=\"text-align: right;\">\n",
       "      <th></th>\n",
       "      <th>Parameter</th>\n",
       "      <th>Value</th>\n",
       "      <th>Comment</th>\n",
       "    </tr>\n",
       "  </thead>\n",
       "  <tbody>\n",
       "    <tr>\n",
       "      <th>0</th>\n",
       "      <td>SYSTEM</td>\n",
       "      <td>vasp</td>\n",
       "      <td>jobname</td>\n",
       "    </tr>\n",
       "    <tr>\n",
       "      <th>1</th>\n",
       "      <td>PREC</td>\n",
       "      <td>Accurate</td>\n",
       "      <td></td>\n",
       "    </tr>\n",
       "    <tr>\n",
       "      <th>2</th>\n",
       "      <td>ALGO</td>\n",
       "      <td>Fast</td>\n",
       "      <td></td>\n",
       "    </tr>\n",
       "    <tr>\n",
       "      <th>3</th>\n",
       "      <td>LREAL</td>\n",
       "      <td>False</td>\n",
       "      <td></td>\n",
       "    </tr>\n",
       "    <tr>\n",
       "      <th>4</th>\n",
       "      <td>LWAVE</td>\n",
       "      <td>False</td>\n",
       "      <td></td>\n",
       "    </tr>\n",
       "    <tr>\n",
       "      <th>5</th>\n",
       "      <td>LORBIT</td>\n",
       "      <td>0</td>\n",
       "      <td></td>\n",
       "    </tr>\n",
       "    <tr>\n",
       "      <th>6</th>\n",
       "      <td>ISIF</td>\n",
       "      <td>2</td>\n",
       "      <td></td>\n",
       "    </tr>\n",
       "    <tr>\n",
       "      <th>7</th>\n",
       "      <td>IBRION</td>\n",
       "      <td>2</td>\n",
       "      <td></td>\n",
       "    </tr>\n",
       "    <tr>\n",
       "      <th>8</th>\n",
       "      <td>NELM</td>\n",
       "      <td>400</td>\n",
       "      <td></td>\n",
       "    </tr>\n",
       "    <tr>\n",
       "      <th>9</th>\n",
       "      <td>NSW</td>\n",
       "      <td>100</td>\n",
       "      <td></td>\n",
       "    </tr>\n",
       "    <tr>\n",
       "      <th>10</th>\n",
       "      <td>EDIFFG</td>\n",
       "      <td>-0.01</td>\n",
       "      <td></td>\n",
       "    </tr>\n",
       "  </tbody>\n",
       "</table>\n",
       "</div>"
      ],
      "text/plain": [
       "   Parameter     Value  Comment\n",
       "0     SYSTEM      vasp  jobname\n",
       "1       PREC  Accurate         \n",
       "2       ALGO      Fast         \n",
       "3      LREAL     False         \n",
       "4      LWAVE     False         \n",
       "5     LORBIT         0         \n",
       "6       ISIF         2         \n",
       "7     IBRION         2         \n",
       "8       NELM       400         \n",
       "9        NSW       100         \n",
       "10    EDIFFG     -0.01         "
      ]
     },
     "execution_count": 23,
     "metadata": {},
     "output_type": "execute_result"
    }
   ],
   "source": [
    "job.input.incar"
   ]
  },
  {
   "cell_type": "code",
   "execution_count": null,
   "id": "4347deff-b1fa-4a93-9186-053788a965b1",
   "metadata": {},
   "outputs": [],
   "source": []
  },
  {
   "cell_type": "code",
   "execution_count": 24,
   "id": "39292cef-1473-4dcb-940a-eb258c51456b",
   "metadata": {},
   "outputs": [
    {
     "data": {
      "text/html": [
       "<div>\n",
       "<style scoped>\n",
       "    .dataframe tbody tr th:only-of-type {\n",
       "        vertical-align: middle;\n",
       "    }\n",
       "\n",
       "    .dataframe tbody tr th {\n",
       "        vertical-align: top;\n",
       "    }\n",
       "\n",
       "    .dataframe thead th {\n",
       "        text-align: right;\n",
       "    }\n",
       "</style>\n",
       "<table border=\"1\" class=\"dataframe\">\n",
       "  <thead>\n",
       "    <tr style=\"text-align: right;\">\n",
       "      <th></th>\n",
       "      <th>Parameter</th>\n",
       "      <th>Value</th>\n",
       "      <th>Comment</th>\n",
       "    </tr>\n",
       "  </thead>\n",
       "  <tbody>\n",
       "    <tr>\n",
       "      <th>0</th>\n",
       "      <td></td>\n",
       "      <td>Kpoints file generated with pyiron_atomistics</td>\n",
       "      <td></td>\n",
       "    </tr>\n",
       "    <tr>\n",
       "      <th>1</th>\n",
       "      <td></td>\n",
       "      <td>0</td>\n",
       "      <td></td>\n",
       "    </tr>\n",
       "    <tr>\n",
       "      <th>2</th>\n",
       "      <td></td>\n",
       "      <td>Monkhorst_Pack</td>\n",
       "      <td></td>\n",
       "    </tr>\n",
       "    <tr>\n",
       "      <th>3</th>\n",
       "      <td></td>\n",
       "      <td>4 4 4</td>\n",
       "      <td></td>\n",
       "    </tr>\n",
       "    <tr>\n",
       "      <th>4</th>\n",
       "      <td></td>\n",
       "      <td>0 0 0</td>\n",
       "      <td></td>\n",
       "    </tr>\n",
       "  </tbody>\n",
       "</table>\n",
       "</div>"
      ],
      "text/plain": [
       "  Parameter                                          Value Comment\n",
       "0            Kpoints file generated with pyiron_atomistics        \n",
       "1                                                        0        \n",
       "2                                           Monkhorst_Pack        \n",
       "3                                                    4 4 4        \n",
       "4                                                    0 0 0        "
      ]
     },
     "execution_count": 24,
     "metadata": {},
     "output_type": "execute_result"
    }
   ],
   "source": [
    "job.input.kpoints"
   ]
  },
  {
   "cell_type": "code",
   "execution_count": null,
   "id": "606b33d9-5689-4669-bc71-5bb2a7c8a638",
   "metadata": {},
   "outputs": [],
   "source": []
  },
  {
   "cell_type": "code",
   "execution_count": 25,
   "id": "d5914966-cb8c-4a8c-ac70-174d091b52a2",
   "metadata": {},
   "outputs": [
    {
     "data": {
      "text/html": [
       "<div>\n",
       "<style scoped>\n",
       "    .dataframe tbody tr th:only-of-type {\n",
       "        vertical-align: middle;\n",
       "    }\n",
       "\n",
       "    .dataframe tbody tr th {\n",
       "        vertical-align: top;\n",
       "    }\n",
       "\n",
       "    .dataframe thead th {\n",
       "        text-align: right;\n",
       "    }\n",
       "</style>\n",
       "<table border=\"1\" class=\"dataframe\">\n",
       "  <thead>\n",
       "    <tr style=\"text-align: right;\">\n",
       "      <th></th>\n",
       "      <th>Parameter</th>\n",
       "      <th>Value</th>\n",
       "      <th>Comment</th>\n",
       "    </tr>\n",
       "  </thead>\n",
       "  <tbody>\n",
       "    <tr>\n",
       "      <th>0</th>\n",
       "      <td>xc</td>\n",
       "      <td>GGA</td>\n",
       "      <td>LDA, GGA</td>\n",
       "    </tr>\n",
       "  </tbody>\n",
       "</table>\n",
       "</div>"
      ],
      "text/plain": [
       "  Parameter Value   Comment\n",
       "0        xc   GGA  LDA, GGA"
      ]
     },
     "execution_count": 25,
     "metadata": {},
     "output_type": "execute_result"
    }
   ],
   "source": [
    "job.input.potcar"
   ]
  },
  {
   "cell_type": "code",
   "execution_count": 26,
   "id": "dccb5f83-7df1-4496-a8ce-a931738b1a7a",
   "metadata": {},
   "outputs": [
    {
     "data": {
      "text/plain": [
       "array([-14.7459202])"
      ]
     },
     "execution_count": 26,
     "metadata": {},
     "output_type": "execute_result"
    }
   ],
   "source": [
    "job.output.energy_tot"
   ]
  },
  {
   "cell_type": "code",
   "execution_count": 27,
   "id": "7011db5d-c324-4126-b956-5fbad85294a0",
   "metadata": {},
   "outputs": [
    {
     "data": {
      "text/plain": [
       "array([[[0.   , 0.   , 0.   ],\n",
       "        [0.   , 2.025, 2.025],\n",
       "        [2.025, 0.   , 2.025],\n",
       "        [2.025, 2.025, 0.   ]]])"
      ]
     },
     "execution_count": 27,
     "metadata": {},
     "output_type": "execute_result"
    }
   ],
   "source": [
    "job.output.positions"
   ]
  },
  {
   "cell_type": "code",
   "execution_count": null,
   "id": "26c4b2ec-f0b4-4ea9-94ab-9aea3648ee34",
   "metadata": {},
   "outputs": [],
   "source": []
  }
 ],
 "metadata": {
  "kernelspec": {
   "display_name": "pyiron/latest (Python3.10)",
   "language": "python",
   "name": "python3"
  },
  "language_info": {
   "codemirror_mode": {
    "name": "ipython",
    "version": 3
   },
   "file_extension": ".py",
   "mimetype": "text/x-python",
   "name": "python",
   "nbconvert_exporter": "python",
   "pygments_lexer": "ipython3",
   "version": "3.10.14"
  }
 },
 "nbformat": 4,
 "nbformat_minor": 5
}
